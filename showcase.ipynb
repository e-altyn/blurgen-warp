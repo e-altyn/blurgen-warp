{
 "cells": [
  {
   "cell_type": "code",
   "execution_count": 41,
   "id": "07f76e56",
   "metadata": {},
   "outputs": [],
   "source": [
    "import torch\n",
    "import torch.nn.functional as F\n",
    "import matplotlib.pyplot as plt\n",
    "\n",
    "from utils.synthesis import make_c2w\n",
    "from utils.utils import visualize_blur_trajectories"
   ]
  },
  {
   "cell_type": "code",
   "execution_count": null,
   "id": "ccc092f1",
   "metadata": {},
   "outputs": [],
   "source": [
    "# blur trajectory visulization\n",
    "\n",
    "def randn_vector_linspace(num_poses):\n",
    "    start, end = torch.randn(3), torch.randn(3)\n",
    "    return torch.stack([torch.linspace(start[i], end[i], num_poses) for i in range(3)], dim=1)\n",
    "\n",
    "num_poses = 8\n",
    "\n",
    "r = randn_vector_linspace(num_poses) * 0.05\n",
    "t = randn_vector_linspace(num_poses)\n",
    "\n",
    "grid_2d_rigid = F.affine_grid(\n",
    "    make_c2w(r, t)[:, :2, :3], \n",
    "    [num_poses, 3, 256, 256], # image must be square for circular motion pattern\n",
    "    align_corners=True\n",
    ")\n",
    "img = visualize_blur_trajectories(grid_2d_rigid, spacing=32, colormap=None)\n",
    "\n",
    "plt.imshow(img, cmap='gray')\n",
    "plt.axis('off')\n",
    "plt.show()"
   ]
  }
 ],
 "metadata": {
  "kernelspec": {
   "display_name": "Python 3",
   "language": "python",
   "name": "python3"
  },
  "language_info": {
   "codemirror_mode": {
    "name": "ipython",
    "version": 3
   },
   "file_extension": ".py",
   "mimetype": "text/x-python",
   "name": "python",
   "nbconvert_exporter": "python",
   "pygments_lexer": "ipython3",
   "version": "3.13.2"
  }
 },
 "nbformat": 4,
 "nbformat_minor": 5
}
