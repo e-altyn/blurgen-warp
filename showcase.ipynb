{
 "cells": [
  {
   "cell_type": "code",
   "execution_count": null,
   "id": "772e30b0",
   "metadata": {},
   "outputs": [],
   "source": [
    "import torch\n",
    "\n",
    "if torch.cuda.cuda_is_available():\n",
    "    deivce = 'cuda'\n",
    "elif torch.backends.mps.is_available():\n",
    "    deivce = 'mps'\n",
    "else:\n",
    "    device = 'cpu'"
   ]
  },
  {
   "cell_type": "code",
   "execution_count": null,
   "id": "ccc092f1",
   "metadata": {},
   "outputs": [],
   "source": [
    "# blur trajectory visulization\n",
    "\n",
    "import torch.nn.functional as F\n",
    "import matplotlib.pyplot as plt\n",
    "\n",
    "from utils.synthesis import make_c2w\n",
    "from utils.utils import visualize_blur_trajectories\n",
    "\n",
    "def randn_vector_linspace(num_poses):\n",
    "    start, end = torch.randn(3), torch.randn(3)\n",
    "    return torch.stack([torch.linspace(start[i], end[i], num_poses) for i in range(3)], dim=1)\n",
    "\n",
    "num_poses = 8\n",
    "\n",
    "r = randn_vector_linspace(num_poses) * 0.05\n",
    "t = randn_vector_linspace(num_poses)\n",
    "\n",
    "grid_2d_rigid = F.affine_grid(\n",
    "    make_c2w(r, t)[:, :2, :3], \n",
    "    [num_poses, 3, 256, 256], # image must be square for circular motion pattern\n",
    "    align_corners=True\n",
    ")\n",
    "img = visualize_blur_trajectories(grid_2d_rigid, spacing=32, colormap=None)\n",
    "\n",
    "plt.imshow(img, cmap='gray')\n",
    "plt.axis('off')\n",
    "plt.show()"
   ]
  },
  {
   "cell_type": "code",
   "execution_count": null,
   "id": "c8f97ed3",
   "metadata": {},
   "outputs": [],
   "source": [
    "# inference example\n",
    "\n",
    "from config import TrainAugConfig as cfg\n",
    "from models.nafnet import NAFNetGrid\n",
    "from utils.synthesis import blur_synthesis\n",
    "from utils.dataset import get_img\n",
    "from utils.utils import load_ckpt\n",
    "\n",
    "ckpt = ''\n",
    "sharp_path = ''\n",
    "blur_path = ''\n",
    "\n",
    "model = NAFNetGrid(**cfg().nafnet_grid_params)\n",
    "load_ckpt(ckpt, model)\n",
    "\n",
    "sharp = get_img(sharp_path)\n",
    "blur = get_img(blur_path)\n",
    "\n",
    "results = blur_synthesis(model(blur), blur, sharp)\n",
    "pred_blur = results['pred_blur']\n",
    "\n",
    "plt.imshow(pred_blur)\n",
    "plt.axis('off')\n",
    "plt.show()"
   ]
  }
 ],
 "metadata": {
  "kernelspec": {
   "display_name": "Python 3",
   "language": "python",
   "name": "python3"
  },
  "language_info": {
   "codemirror_mode": {
    "name": "ipython",
    "version": 3
   },
   "file_extension": ".py",
   "mimetype": "text/x-python",
   "name": "python",
   "nbconvert_exporter": "python",
   "pygments_lexer": "ipython3",
   "version": "3.13.2"
  }
 },
 "nbformat": 4,
 "nbformat_minor": 5
}
